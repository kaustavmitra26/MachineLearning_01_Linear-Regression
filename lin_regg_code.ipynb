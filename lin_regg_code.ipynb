#import library
import numpy as np
import scipy.stats as stats
import pandas as pd
import statsmodels.api as sm

#create dataset
x = np.linspace(1,1000,20000)
y=0.2*x+14
stats.linregress(x,y)

from statsmodels.formula.api import ols
df = pd.DataFrame({"x":x,"y":y})
m = ols("y~x",df).fit()
print(m.summary())
t = sm.stats.anova_lm(m)
print(t)
